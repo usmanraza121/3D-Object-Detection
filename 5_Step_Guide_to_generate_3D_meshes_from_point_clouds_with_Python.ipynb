{
  "nbformat": 4,
  "nbformat_minor": 0,
  "metadata": {
    "colab": {
      "name": "5-Step-Guide-to-generate-3D-meshes-from-point-clouds-with-Python.ipynb",
      "provenance": [],
      "collapsed_sections": [],
      "include_colab_link": true
    },
    "kernelspec": {
      "name": "python3",
      "display_name": "Python 3"
    }
  },
  "cells": [
    {
      "cell_type": "markdown",
      "metadata": {
        "id": "view-in-github",
        "colab_type": "text"
      },
      "source": [
        "<a href=\"https://colab.research.google.com/github/usmanraza121/3D-Object-Detection/blob/master/5_Step_Guide_to_generate_3D_meshes_from_point_clouds_with_Python.ipynb\" target=\"_parent\"><img src=\"https://colab.research.google.com/assets/colab-badge.svg\" alt=\"Open In Colab\"/></a>"
      ]
    },
    {
      "cell_type": "markdown",
      "metadata": {
        "id": "ESHGw_Kudkf4"
      },
      "source": [
        "Created by Florent Poux. Licence CC\n",
        "\n",
        "*   To reuse in your project, please cite the article.\n",
        "*   Have fun with this notebook that you can very simply run (ctrl+Enter) !\n",
        "*   The first time thought, it will ask you to get a key for it to be able to acces your Google drive folders if you want to work all remotely.\n",
        "*   Simply accept, and then change the \"10-MEDIUM/DATA/Point Cloud Sample/\" by the folder path containing your data\n",
        "\n",
        "Enjoy!"
      ]
    },
    {
      "cell_type": "markdown",
      "metadata": {
        "id": "TLxlwD5AdI57"
      },
      "source": [
        "# Step 1: Setting up the environment"
      ]
    },
    {
      "cell_type": "code",
      "metadata": {
        "id": "xIL9q3EeOICm"
      },
      "source": [
        "#http://www.open3d.org/docs/release/index.html\n",
        "!pip install open3d"
      ],
      "execution_count": null,
      "outputs": []
    },
    {
      "cell_type": "markdown",
      "metadata": {
        "id": "wDQayYrmfMKi"
      },
      "source": [
        "# Step 2: Load and prepare the data"
      ]
    },
    {
      "cell_type": "code",
      "metadata": {
        "id": "Uzrw-UieNDPt"
      },
      "source": [
        "#This code snippet allows to use data directly from your Google drives files.\n",
        "#If you want to use a shared folder, just add the folder to your drive\n",
        "from google.colab import drive\n",
        "drive.mount('/content/gdrive')\n",
        "\n",
        "#libraries used\n",
        "import numpy as np\n",
        "import open3d as o3d"
      ],
      "execution_count": null,
      "outputs": []
    },
    {
      "cell_type": "code",
      "metadata": {
        "id": "uCPkhRyEe9UM"
      },
      "source": [
        "#create paths and load data\n",
        "input_path=\"your_path_to_file/\"\n",
        "output_path=\"your_path_to_output_folder/\"\n",
        "dataname=\"sample_w_normals.xyz\"\n",
        "point_cloud= np.loadtxt(input_path+dataname,skiprows=1)"
      ],
      "execution_count": null,
      "outputs": []
    },
    {
      "cell_type": "code",
      "metadata": {
        "id": "Q-6ISxhQfC0s"
      },
      "source": [
        "#Format to open3d usable objects\n",
        "pcd = o3d.geometry.PointCloud()\n",
        "pcd.points = o3d.utility.Vector3dVector(point_cloud[:,:3])\n",
        "pcd.colors = o3d.utility.Vector3dVector(point_cloud[:,3:6]/255)\n",
        "pcd.normals = o3d.utility.Vector3dVector(point_cloud[:,6:9])"
      ],
      "execution_count": null,
      "outputs": []
    },
    {
      "cell_type": "markdown",
      "metadata": {
        "id": "8_lk8f2Irlfl"
      },
      "source": [
        "# Step 3: Choose a meshing strategy"
      ]
    },
    {
      "cell_type": "markdown",
      "metadata": {
        "id": "keheHCh_fo66"
      },
      "source": [
        "Now we are ready to start the surface reconstruction process by meshing the pcd point cloud. I will give my favorite way to efficiently obtain results, but before we dive in, some condensed details ar necessary to grasp the underlying processes. I will limit myself to two meshing strategies. See article"
      ]
    },
    {
      "cell_type": "markdown",
      "metadata": {
        "id": "rypFhEUjrryA"
      },
      "source": [
        "# Step 4: Process the data\n",
        "## Strategy 1: BPA"
      ]
    },
    {
      "cell_type": "code",
      "metadata": {
        "id": "_k1OmNMcOnxI"
      },
      "source": [
        "#radius determination\n",
        "distances = pcd.compute_nearest_neighbor_distance()\n",
        "avg_dist = np.mean(distances)\n",
        "radius = 3 * avg_dist"
      ],
      "execution_count": null,
      "outputs": []
    },
    {
      "cell_type": "code",
      "metadata": {
        "id": "93CP_vJ3F-aU"
      },
      "source": [
        "#computing the mehs\n",
        "bpa_mesh = o3d.geometry.TriangleMesh.create_from_point_cloud_ball_pivoting(pcd,o3d.utility.DoubleVector([radius, radius * 2]))"
      ],
      "execution_count": null,
      "outputs": []
    },
    {
      "cell_type": "code",
      "metadata": {
        "id": "lCv0aXETf-b-"
      },
      "source": [
        "#decimating the mesh\n",
        "dec_mesh = mesh.simplify_quadric_decimation(100000)"
      ],
      "execution_count": null,
      "outputs": []
    },
    {
      "cell_type": "markdown",
      "metadata": {
        "id": "Tgv_73IEgCgH"
      },
      "source": [
        "*Optional ---*"
      ]
    },
    {
      "cell_type": "code",
      "metadata": {
        "id": "j_5H7AnegBNa"
      },
      "source": [
        "dec_mesh.remove_degenerate_triangles()\n",
        "dec_mesh.remove_duplicated_triangles()\n",
        "dec_mesh.remove_duplicated_vertices()\n",
        "dec_mesh.remove_non_manifold_edges()"
      ],
      "execution_count": null,
      "outputs": []
    },
    {
      "cell_type": "markdown",
      "metadata": {
        "id": "DLRvO9bSgHgB"
      },
      "source": [
        "## Strategy 2: Poisson' reconstruction"
      ]
    },
    {
      "cell_type": "code",
      "metadata": {
        "id": "Bb66rd6nFfL-"
      },
      "source": [
        "#computing the mesh\n",
        "poisson_mesh = o3d.geometry.TriangleMesh.create_from_point_cloud_poisson(pcd, depth=8, width=0, scale=1.1, linear_fit=False)[0]"
      ],
      "execution_count": null,
      "outputs": []
    },
    {
      "cell_type": "code",
      "metadata": {
        "id": "V-7o1CJUuUJs"
      },
      "source": [
        "#cropping\n",
        "bbox = pcd.get_axis_aligned_bounding_box()\n",
        "p_mesh_crop = poisson_mesh.crop(bbox)"
      ],
      "execution_count": null,
      "outputs": []
    },
    {
      "cell_type": "markdown",
      "metadata": {
        "id": "uGd6ZlZkgYa1"
      },
      "source": [
        "# Step 5: Export and visualize"
      ]
    },
    {
      "cell_type": "code",
      "metadata": {
        "id": "rWMbbiWRumIn"
      },
      "source": [
        "#export\n",
        "o3d.io.write_triangle_mesh(output_path+\"bpa_mesh.ply\", dec_mesh)\n",
        "o3d.io.write_triangle_mesh(output_path+\"p_mesh_c.ply\", p_mesh_crop)"
      ],
      "execution_count": null,
      "outputs": []
    },
    {
      "cell_type": "code",
      "metadata": {
        "id": "aNCA9dH2Fw5j"
      },
      "source": [
        "#function creation\n",
        "def lod_mesh_export(mesh, lods, extension, path):\n",
        "    mesh_lods={}\n",
        "    for i in lods:\n",
        "        mesh_lod = mesh.simplify_quadric_decimation(i)\n",
        "        o3d.io.write_triangle_mesh(path+\"lod_\"+str(i)+extension, mesh_lod)\n",
        "        mesh_lods[i]=mesh_lod\n",
        "    print(\"generation of \"+str(i)+\" LoD successful\")\n",
        "    return mesh_lods"
      ],
      "execution_count": null,
      "outputs": []
    },
    {
      "cell_type": "code",
      "metadata": {
        "id": "sio4Dn4qjlmP"
      },
      "source": [
        "#execution of function\n",
        "my_lods = lod_mesh_export(bpa_mesh, [100000,50000,10000,1000,100], \".ply\", output_path)"
      ],
      "execution_count": null,
      "outputs": []
    },
    {
      "cell_type": "code",
      "metadata": {
        "id": "vBkKEBmPgmar"
      },
      "source": [
        "#execution of function\n",
        "my_lods2 = lod_mesh_export(bpa_mesh, [8000,800,300], \".ply\", output_path)"
      ],
      "execution_count": null,
      "outputs": []
    }
  ]
}